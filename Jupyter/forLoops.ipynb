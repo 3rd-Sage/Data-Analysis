{
 "cells": [
  {
   "cell_type": "markdown",
   "metadata": {},
   "source": [
    "FOR LOOPS"
   ]
  },
  {
   "cell_type": "code",
   "execution_count": 1,
   "metadata": {},
   "outputs": [],
   "source": [
    "integers = [1, 2, 3, 4, 5]"
   ]
  },
  {
   "cell_type": "code",
   "execution_count": 2,
   "metadata": {},
   "outputs": [
    {
     "name": "stdout",
     "output_type": "stream",
     "text": [
      "1\n",
      "2\n",
      "3\n",
      "4\n",
      "5\n"
     ]
    }
   ],
   "source": [
    "for number in integers:\n",
    "    print(number)"
   ]
  },
  {
   "cell_type": "code",
   "execution_count": 3,
   "metadata": {},
   "outputs": [
    {
     "name": "stdout",
     "output_type": "stream",
     "text": [
      "2\n",
      "4\n",
      "6\n",
      "8\n",
      "10\n"
     ]
    }
   ],
   "source": [
    "integers = [1, 2, 3, 4, 5]\n",
    "for jelly in integers:\n",
    "    print(jelly + jelly)"
   ]
  },
  {
   "cell_type": "code",
   "execution_count": 4,
   "metadata": {},
   "outputs": [],
   "source": [
    "iceCream = {'name': 'Alex Freberg', 'weekly intake': 5, 'favourite ice cream': ['MCC', 'chocolate']}"
   ]
  },
  {
   "cell_type": "code",
   "execution_count": 5,
   "metadata": {},
   "outputs": [
    {
     "name": "stdout",
     "output_type": "stream",
     "text": [
      "Alex Freberg\n",
      "5\n",
      "['MCC', 'chocolate']\n"
     ]
    }
   ],
   "source": [
    "for cream in iceCream.values():\n",
    "    print(cream)"
   ]
  },
  {
   "cell_type": "code",
   "execution_count": 6,
   "metadata": {},
   "outputs": [
    {
     "name": "stdout",
     "output_type": "stream",
     "text": [
      "name -> Alex Freberg\n",
      "weekly intake -> 5\n",
      "favourite ice cream -> ['MCC', 'chocolate']\n"
     ]
    }
   ],
   "source": [
    "for key, value in iceCream.items():\n",
    "    print(key, '->', value)"
   ]
  },
  {
   "cell_type": "markdown",
   "metadata": {},
   "source": [
    "Nest For Loops"
   ]
  },
  {
   "cell_type": "code",
   "execution_count": 7,
   "metadata": {},
   "outputs": [],
   "source": [
    "flavours = ['vanilla', 'chocolate', 'cookie']\n",
    "toppings = ['Hot Fudge', 'Oreos', 'Marshmallows']"
   ]
  },
  {
   "cell_type": "code",
   "execution_count": 8,
   "metadata": {},
   "outputs": [
    {
     "name": "stdout",
     "output_type": "stream",
     "text": [
      "vanilla topped with Hot Fudge\n",
      "vanilla topped with Oreos\n",
      "vanilla topped with Marshmallows\n",
      "chocolate topped with Hot Fudge\n",
      "chocolate topped with Oreos\n",
      "chocolate topped with Marshmallows\n",
      "cookie topped with Hot Fudge\n",
      "cookie topped with Oreos\n",
      "cookie topped with Marshmallows\n"
     ]
    }
   ],
   "source": [
    "for one in flavours:\n",
    "    for two in toppings:\n",
    "        print(one, 'topped with', two)"
   ]
  }
 ],
 "metadata": {
  "kernelspec": {
   "display_name": "base",
   "language": "python",
   "name": "python3"
  },
  "language_info": {
   "codemirror_mode": {
    "name": "ipython",
    "version": 3
   },
   "file_extension": ".py",
   "mimetype": "text/x-python",
   "name": "python",
   "nbconvert_exporter": "python",
   "pygments_lexer": "ipython3",
   "version": "3.11.4"
  },
  "orig_nbformat": 4
 },
 "nbformat": 4,
 "nbformat_minor": 2
}
