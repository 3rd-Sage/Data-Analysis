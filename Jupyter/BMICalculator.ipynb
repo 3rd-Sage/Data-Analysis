{
 "cells": [
  {
   "cell_type": "code",
   "execution_count": 17,
   "metadata": {},
   "outputs": [
    {
     "name": "stdout",
     "output_type": "stream",
     "text": [
      "3230.686156992352\n"
     ]
    }
   ],
   "source": [
    "name = input('Enter your name: ')\n",
    "weight = int(input('Enter your weight in pounds: '))\n",
    "height = int(input('Enter your height in inches: '))\n",
    "BMI = (weight * 703) / (height * height)\n",
    "print(BMI)"
   ]
  },
  {
   "cell_type": "markdown",
   "metadata": {},
   "source": [
    "Statement\n"
   ]
  },
  {
   "cell_type": "code",
   "execution_count": 15,
   "metadata": {},
   "outputs": [
    {
     "name": "stdout",
     "output_type": "stream",
     "text": [
      "Nnodebe, You are underweight.\n"
     ]
    }
   ],
   "source": [
    "if BMI > 0:\n",
    "    if(BMI < 18.5):\n",
    "        print(name + ', You are underweight.')\n",
    "    elif(BMI <= 24.9):\n",
    "        print(name + ', You are normal weight')\n",
    "    elif(BMI <= 29.9):\n",
    "        print(name + ', You are overweight')\n",
    "    elif(BMI <= 34.9):\n",
    "        print(name + ', You are obese')\n",
    "    elif(BMI <= 39.9):\n",
    "        print(name + ', You are severly obese')\n",
    "    elif(BMI > 40):\n",
    "        print(name + ', You are Mobidly obese')\n",
    "    else:\n",
    "        print('Enter valid inputs!')\n",
    "else: \n",
    "    print('Emter valid input')"
   ]
  }
 ],
 "metadata": {
  "kernelspec": {
   "display_name": "base",
   "language": "python",
   "name": "python3"
  },
  "language_info": {
   "codemirror_mode": {
    "name": "ipython",
    "version": 3
   },
   "file_extension": ".py",
   "mimetype": "text/x-python",
   "name": "python",
   "nbconvert_exporter": "python",
   "pygments_lexer": "ipython3",
   "version": "3.11.4"
  },
  "orig_nbformat": 4
 },
 "nbformat": 4,
 "nbformat_minor": 2
}
